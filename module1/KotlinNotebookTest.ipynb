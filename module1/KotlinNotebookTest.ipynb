{
 "cells": [
  {
   "cell_type": "code",
   "execution_count": 2,
   "metadata": {
    "collapsed": true,
    "ExecuteTime": {
     "end_time": "2023-08-21T23:04:47.996076600Z",
     "start_time": "2023-08-21T23:03:40.861009700Z"
    }
   },
   "outputs": [
    {
     "data": {
      "text/plain": "Plain text 1"
     },
     "metadata": {},
     "output_type": "display_data"
    },
    {
     "data": {
      "text/plain": "15.0"
     },
     "execution_count": 2,
     "metadata": {},
     "output_type": "execute_result"
    }
   ],
   "source": [
    "%use krangl\n",
    "DISPLAY(\"Plain text 1\")\n",
    "//HTML(\"<b>HTML</b> text\")\n",
    "8.5+6.5"
   ]
  },
  {
   "cell_type": "code",
   "execution_count": 17,
   "outputs": [
    {
     "name": "stdout",
     "output_type": "stream",
     "text": [
      "A DataFrame: 2580 x 7\n",
      "     Review #            Brand                                                       Variety\n",
      " 1       2580        New Touch                                     T's Restaurant Tantanmen \n",
      " 2       2579         Just Way   Noodles Spicy Hot Sesame Spicy Hot Sesame Guan-miao Noodles\n",
      " 3       2578           Nissin                                 Cup Noodles Chicken Vegetable\n",
      " 4       2577          Wei Lih                                 GGE Ramen Snack Tomato Flavor\n",
      " 5       2576   Ching's Secret                                               Singapore Curry\n",
      " 6       2575    Samyang Foods                                        Kimchi song Song Ramen\n",
      " 7       2574          Acecook                           Spice Deli Tantan Men With Cilantro\n",
      " 8       2573      Ikeda Shoku                                         Nabeyaki Kitsune Udon\n",
      " 9       2572       Ripe'n'Dry                                      Hokkaido Soy Sauce Ramen\n",
      "10       2571             KOKA                         The Original Spicy Stir-Fried Noodles\n",
      "and 2570 more rows, and and 4 more variables: Country, Stars, Top Ten\r\n"
     ]
    }
   ],
   "source": [
    "val ramenRatings = DataFrame.readCSV(\"https://koenig-media.raywenderlich.com/uploads/2021/07/ramen-ratings.csv\")\n",
    "println(ramenRatings)"
   ],
   "metadata": {
    "collapsed": false,
    "ExecuteTime": {
     "end_time": "2023-08-09T23:57:38.413486800Z",
     "start_time": "2023-08-09T23:57:38.271560900Z"
    }
   }
  },
  {
   "cell_type": "code",
   "execution_count": 16,
   "outputs": [
    {
     "name": "stdout",
     "output_type": "stream",
     "text": [
      "A DataFrame: 83 x 11\n",
      "                           name         genus    vore          order   conservation   sleep_total\n",
      " 1                      Cheetah      Acinonyx   carni      Carnivora             lc          12.1\n",
      " 2                   Owl monkey         Aotus    omni       Primates           <NA>            17\n",
      " 3              Mountain beaver    Aplodontia   herbi       Rodentia             nt          14.4\n",
      " 4   Greater short-tailed shrew       Blarina    omni   Soricomorpha             lc          14.9\n",
      " 5                          Cow           Bos   herbi   Artiodactyla   domesticated             4\n",
      " 6             Three-toed sloth      Bradypus   herbi         Pilosa           <NA>          14.4\n",
      " 7            Northern fur seal   Callorhinus   carni      Carnivora             vu           8.7\n",
      " 8                 Vesper mouse       Calomys    <NA>       Rodentia           <NA>             7\n",
      " 9                          Dog         Canis   carni      Carnivora   domesticated          10.1\n",
      "10                     Roe deer     Capreolus   herbi   Artiodactyla             lc             3\n",
      "and 73 more rows, and and 5 more variables: sleep_cycle, awake, brainwt, bodywt\r\n"
     ]
    }
   ],
   "source": [
    "println(sleepData)"
   ],
   "metadata": {
    "collapsed": false,
    "ExecuteTime": {
     "end_time": "2023-08-09T23:55:22.659411500Z",
     "start_time": "2023-08-09T23:55:22.590842Z"
    }
   }
  },
  {
   "cell_type": "code",
   "execution_count": null,
   "outputs": [],
   "source": [],
   "metadata": {
    "collapsed": false
   }
  }
 ],
 "metadata": {
  "kernelspec": {
   "display_name": "Kotlin",
   "language": "kotlin",
   "name": "kotlin"
  },
  "language_info": {
   "name": "kotlin",
   "version": "1.8.20",
   "mimetype": "text/x-kotlin",
   "file_extension": ".kt",
   "pygments_lexer": "kotlin",
   "codemirror_mode": "text/x-kotlin",
   "nbconvert_exporter": ""
  }
 },
 "nbformat": 4,
 "nbformat_minor": 0
}
