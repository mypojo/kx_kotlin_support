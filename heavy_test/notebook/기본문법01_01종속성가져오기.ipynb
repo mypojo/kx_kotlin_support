{
 "cells": [
  {
   "cell_type": "code",
   "execution_count": 8,
   "metadata": {
    "collapsed": true,
    "ExecuteTime": {
     "end_time": "2023-10-29T01:37:23.420281300Z",
     "start_time": "2023-10-29T01:37:23.368280700Z"
    }
   },
   "outputs": [
    {
     "name": "stdout",
     "output_type": "stream",
     "text": [
      "{}\r\n",
      "[{\"a\":332}]\r\n",
      "2023-10-27\r\n"
     ]
    }
   ],
   "source": [
    "import net.kotlinx.core.gson.GsonData\n",
    "import net.kotlinx.core.gson.toGsonData\n",
    "import net.kotlinx.core.string.toLocalDate\n",
    "import net.kotlinx.core.time.toYmdF01\n",
    "\n",
    "val aa = GsonData.parse(\"{}\")\n",
    "println(aa)\n",
    "println(\"[{a=332}]\".toGsonData())\n",
    "\n",
    "println(\"20231027\".toLocalDate().toYmdF01())\n"
   ]
  },
  {
   "cell_type": "code",
   "execution_count": null,
   "outputs": [],
   "source": [
    "//## 이렇게 가져오는거 가능\n",
    "USE {\n",
    "    repositories {\n",
    "//        maven {\n",
    "//            url = \"https://my.secret.repo/maven/\"\n",
    "//            credentials {\n",
    "//                username = USER\n",
    "//                password = TOKEN\n",
    "//            }\n",
    "//        }\n",
    "        dependencies {\n",
    "            val ktorVersion = \"2.0.3\"            \n",
    "            implementation(\"io.ktor:ktor-client-core-jvm:$ktorVersion\")\n",
    "            implementation(\"io.ktor:ktor-client-apache-jvm:$ktorVersion\")\n",
    "        }\n",
    "    }\n",
    "}"
   ],
   "metadata": {
    "collapsed": false
   }
  }
 ],
 "metadata": {
  "kernelspec": {
   "display_name": "Kotlin",
   "language": "kotlin",
   "name": "kotlin"
  },
  "language_info": {
   "name": "kotlin",
   "version": "1.8.20",
   "mimetype": "text/x-kotlin",
   "file_extension": ".kt",
   "pygments_lexer": "kotlin",
   "codemirror_mode": "text/x-kotlin",
   "nbconvert_exporter": ""
  },
  "ktnbPluginMetadata": {
   "projectDependencies": [
    "kx_kotlin_support.core.main",
    "kx_kotlin_support.core.test"
   ]
  }
 },
 "nbformat": 4,
 "nbformat_minor": 0
}
