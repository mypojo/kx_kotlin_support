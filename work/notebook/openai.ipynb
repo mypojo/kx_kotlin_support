{
 "cells": [
  {
   "cell_type": "markdown",
   "source": [
    "## 오픈AI\n",
    "1. ???"
   ],
   "metadata": {
    "collapsed": false
   }
  },
  {
   "metadata": {},
   "cell_type": "markdown",
   "source": ""
  },
  {
   "metadata": {
    "ExecuteTime": {
     "end_time": "2024-11-30T00:53:47.010487700Z",
     "start_time": "2024-11-30T00:53:46.934405600Z"
    }
   },
   "cell_type": "code",
   "source": [
    "import mu.KotlinLogging\n",
    "import net.kotlinx.openAi.OpenAiClient\n",
    "import net.kotlinx.openAi.OpenAiModels\n",
    "import net.kotlinx.props.LazyLoadProperty\n",
    "import net.kotlinx.test.MyLightKoinStarter\n",
    "\n",
    "private val log = KotlinLogging.logger {}\n",
    "\n",
    "MyLightKoinStarter.startup()\n",
    "\n",
    "val openAiClient = OpenAiClient {\n",
    "    apiKey = LazyLoadProperty.ssm(\"/gpt4/demo/key\")\n",
    "    modelId = OpenAiModels.GPT_4\n",
    "}"
   ],
   "outputs": [
    {
     "ename": "org.jetbrains.kotlinx.jupyter.exceptions.ReplCompilerException",
     "evalue": "at Cell In[2], line 4, column 20: Unresolved reference: props\nat Cell In[2], line 5, column 20: Unresolved reference: test\nat Cell In[2], line 9, column 1: Unresolved reference: MyLightKoinStarter\nat Cell In[2], line 12, column 14: Unresolved reference: LazyLoadProperty",
     "output_type": "error",
     "traceback": [
      "org.jetbrains.kotlinx.jupyter.exceptions.ReplCompilerException: at Cell In[2], line 4, column 20: Unresolved reference: props",
      "at Cell In[2], line 5, column 20: Unresolved reference: test",
      "at Cell In[2], line 9, column 1: Unresolved reference: MyLightKoinStarter",
      "at Cell In[2], line 12, column 14: Unresolved reference: LazyLoadProperty",
      "\tat org.jetbrains.kotlinx.jupyter.repl.impl.JupyterCompilerImpl.compileSync(JupyterCompilerImpl.kt:208)",
      "\tat org.jetbrains.kotlinx.jupyter.repl.impl.InternalEvaluatorImpl.eval(InternalEvaluatorImpl.kt:126)",
      "\tat org.jetbrains.kotlinx.jupyter.repl.impl.CellExecutorImpl$execute$1$result$1.invoke(CellExecutorImpl.kt:80)",
      "\tat org.jetbrains.kotlinx.jupyter.repl.impl.CellExecutorImpl$execute$1$result$1.invoke(CellExecutorImpl.kt:78)",
      "\tat org.jetbrains.kotlinx.jupyter.repl.impl.ReplForJupyterImpl.withHost(ReplForJupyterImpl.kt:774)",
      "\tat org.jetbrains.kotlinx.jupyter.repl.impl.CellExecutorImpl.execute-L4Nmkdk(CellExecutorImpl.kt:78)",
      "\tat org.jetbrains.kotlinx.jupyter.repl.execution.CellExecutor$DefaultImpls.execute-L4Nmkdk$default(CellExecutor.kt:13)",
      "\tat org.jetbrains.kotlinx.jupyter.repl.impl.ReplForJupyterImpl.evaluateUserCode-wNURfNM(ReplForJupyterImpl.kt:596)",
      "\tat org.jetbrains.kotlinx.jupyter.repl.impl.ReplForJupyterImpl.evalExImpl(ReplForJupyterImpl.kt:454)",
      "\tat org.jetbrains.kotlinx.jupyter.repl.impl.ReplForJupyterImpl.access$evalExImpl(ReplForJupyterImpl.kt:141)",
      "\tat org.jetbrains.kotlinx.jupyter.repl.impl.ReplForJupyterImpl$evalEx$1.invoke(ReplForJupyterImpl.kt:447)",
      "\tat org.jetbrains.kotlinx.jupyter.repl.impl.ReplForJupyterImpl$evalEx$1.invoke(ReplForJupyterImpl.kt:446)",
      "\tat org.jetbrains.kotlinx.jupyter.repl.impl.ReplForJupyterImpl.withEvalContext(ReplForJupyterImpl.kt:427)",
      "\tat org.jetbrains.kotlinx.jupyter.repl.impl.ReplForJupyterImpl.evalEx(ReplForJupyterImpl.kt:446)",
      "\tat org.jetbrains.kotlinx.jupyter.messaging.IdeCompatibleMessageRequestProcessor$processExecuteRequest$1$response$1$1.invoke(IdeCompatibleMessageRequestProcessor.kt:171)",
      "\tat org.jetbrains.kotlinx.jupyter.messaging.IdeCompatibleMessageRequestProcessor$processExecuteRequest$1$response$1$1.invoke(IdeCompatibleMessageRequestProcessor.kt:170)",
      "\tat org.jetbrains.kotlinx.jupyter.streams.BlockingSubstitutionEngine.withDataSubstitution(SubstitutionEngine.kt:70)",
      "\tat org.jetbrains.kotlinx.jupyter.streams.StreamSubstitutionManager.withSubstitutedStreams(StreamSubstitutionManager.kt:118)",
      "\tat org.jetbrains.kotlinx.jupyter.messaging.IdeCompatibleMessageRequestProcessor.withForkedIn(IdeCompatibleMessageRequestProcessor.kt:347)",
      "\tat org.jetbrains.kotlinx.jupyter.messaging.IdeCompatibleMessageRequestProcessor.access$withForkedIn(IdeCompatibleMessageRequestProcessor.kt:67)",
      "\tat org.jetbrains.kotlinx.jupyter.messaging.IdeCompatibleMessageRequestProcessor$evalWithIO$1$1.invoke(IdeCompatibleMessageRequestProcessor.kt:361)",
      "\tat org.jetbrains.kotlinx.jupyter.streams.BlockingSubstitutionEngine.withDataSubstitution(SubstitutionEngine.kt:70)",
      "\tat org.jetbrains.kotlinx.jupyter.streams.StreamSubstitutionManager.withSubstitutedStreams(StreamSubstitutionManager.kt:118)",
      "\tat org.jetbrains.kotlinx.jupyter.messaging.IdeCompatibleMessageRequestProcessor.withForkedErr(IdeCompatibleMessageRequestProcessor.kt:336)",
      "\tat org.jetbrains.kotlinx.jupyter.messaging.IdeCompatibleMessageRequestProcessor.access$withForkedErr(IdeCompatibleMessageRequestProcessor.kt:67)",
      "\tat org.jetbrains.kotlinx.jupyter.messaging.IdeCompatibleMessageRequestProcessor$evalWithIO$1.invoke(IdeCompatibleMessageRequestProcessor.kt:360)",
      "\tat org.jetbrains.kotlinx.jupyter.streams.BlockingSubstitutionEngine.withDataSubstitution(SubstitutionEngine.kt:70)",
      "\tat org.jetbrains.kotlinx.jupyter.streams.StreamSubstitutionManager.withSubstitutedStreams(StreamSubstitutionManager.kt:118)",
      "\tat org.jetbrains.kotlinx.jupyter.messaging.IdeCompatibleMessageRequestProcessor.withForkedOut(IdeCompatibleMessageRequestProcessor.kt:328)",
      "\tat org.jetbrains.kotlinx.jupyter.messaging.IdeCompatibleMessageRequestProcessor.evalWithIO(IdeCompatibleMessageRequestProcessor.kt:359)",
      "\tat org.jetbrains.kotlinx.jupyter.messaging.IdeCompatibleMessageRequestProcessor$processExecuteRequest$1$response$1.invoke(IdeCompatibleMessageRequestProcessor.kt:170)",
      "\tat org.jetbrains.kotlinx.jupyter.messaging.IdeCompatibleMessageRequestProcessor$processExecuteRequest$1$response$1.invoke(IdeCompatibleMessageRequestProcessor.kt:169)",
      "\tat org.jetbrains.kotlinx.jupyter.execution.JupyterExecutorImpl$Task.execute(JupyterExecutorImpl.kt:41)",
      "\tat org.jetbrains.kotlinx.jupyter.execution.JupyterExecutorImpl$executorThread$1.invoke(JupyterExecutorImpl.kt:81)",
      "\tat org.jetbrains.kotlinx.jupyter.execution.JupyterExecutorImpl$executorThread$1.invoke(JupyterExecutorImpl.kt:79)",
      "\tat kotlin.concurrent.ThreadsKt$thread$thread$1.run(Thread.kt:30)",
      ""
     ]
    }
   ],
   "execution_count": 2
  },
  {
   "metadata": {
    "ExecuteTime": {
     "end_time": "2024-04-15T06:41:50.298665100Z",
     "start_time": "2024-04-15T06:41:26.745085200Z"
    }
   },
   "cell_type": "code",
   "source": [
    "import kotlinx.coroutines.runBlocking\n",
    "import net.kotlinx.openAi.toContents\n",
    "\n",
    "runBlocking {\n",
    "    val completion = openAiClient.chat(\n",
    "        listOf(\n",
    "            \"kotlin 용 DI 프레임워크 유명한고 4개만 소개해주고, 장단점을 알려줘\",\n",
    "            \"아이들에게 교육하는 말투로 답변해줘\",\n",
    "        )\n",
    "    )\n",
    "\n",
    "    val contents = completion.toContents()\n",
    "    contents.forEachIndexed { index, s ->\n",
    "        println(\"결과 ${index + 1}/${contents.size} ->\\n$s\")\n",
    "    }\n",
    "}\n",
    "\n"
   ],
   "outputs": [
    {
     "name": "stdout",
     "output_type": "stream",
     "text": [
      "\u001B[32m2024-04-15 15:41:27\u001B[0;39m \u001B[39mDEBUG\u001B[0;39m \u001B[36mn.k.p.LazyLoadProperty             \u001B[0;39m \u001B[33m 31\u001B[0;39m SSM [/gpt4/demo/key] 데이터 로드... \r\n",
      "\u001B[32m2024-04-15 15:41:50\u001B[0;39m \u001B[39mDEBUG\u001B[0;39m \u001B[36mn.k.o.OpenAiClient                 \u001B[0;39m \u001B[33m 88\u001B[0;39m  -> [gpt-4] 걸린시간 23초 \r\n",
      "결과 1/1 \n",
      "물론이에요! DI 프레임워크라는 건 앱을 만드는 데 도움이 되는 도구 같은 거야. Kotlin용으로 유명한 네 개를 소개해 줄게. \n",
      "\n",
      "1. Koin: 코틀린을 위한 가벼운 DI 프레임워크야. 가볍다는 건 사용하기 쉽고 간편하다는 말이지. 근데 가볍다고 해서 기능이 부족하지는 않아. 그래서 많은 개발자들이 좋아해. 하지만 다른 프레임워크에 비해 성능이 약간 떨어질 수도 있어.\n",
      "\n",
      "2. Dagger 2: Dagger 2는 Kotlin과 Java 모두에서 사용할 수 있는 프레임워크야. 이건 컴파일 시간에 DI를 처리하고, 실행 시간 중에는 추가적인 작업을 하지 않아서 성능이 좋아. 근데 설정이 좀 까다롭고 어렵다는 단점이 있지.\n",
      "\n",
      "3. Hilt: 이건 Dagger를 보다 쉽게 쓰기 위한 도구야. Hilt를 사용하면 Dagger의 복잡성을 줄일 수 있다는 장점이 있어. 하지만 이것도 Dagger처럼 초기 설정이 좀 까다로울 수 있지.\n",
      "\n",
      "4. Toothpick: 이것도 Kotlin과 Java 모두에서 사용 가능한데, 사용법이 단순하고 유연하다는 장점이 있어. 그런데 대규모 프로젝트에서 빈 생성 작업이 느릴 수 있다는 단점이 있어.\n",
      "\n",
      "모든 도구가 장단점이 있으니까, 어떤 프로젝트를 할지, 무엇을 중요하게 생각할지 고려해서 선택하면 돼.\r\n"
     ]
    }
   ],
   "execution_count": 5
  }
 ],
 "metadata": {
  "kernelspec": {
   "display_name": "Kotlin",
   "language": "kotlin",
   "name": "kotlin"
  },
  "language_info": {
   "name": "kotlin",
   "version": "1.8.20",
   "mimetype": "text/x-kotlin",
   "file_extension": ".kt",
   "pygments_lexer": "kotlin",
   "codemirror_mode": "text/x-kotlin",
   "nbconvert_exporter": ""
  },
  "ktnbPluginMetadata": {
   "projectDependencies": true
  }
 },
 "nbformat": 4,
 "nbformat_minor": 0
}
