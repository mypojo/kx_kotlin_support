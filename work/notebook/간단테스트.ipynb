{
 "cells": [
  {
   "cell_type": "code",
   "source": [
    "import net.kotlinx.time.toKr01\n",
    "import java.time.LocalDateTime\n",
    "\n",
    "println(LocalDateTime.now().toKr01())\n",
    "println(\"멍멍123123123123\")\n"
   ],
   "metadata": {
    "collapsed": false,
    "ExecuteTime": {
     "end_time": "2024-07-17T09:25:47.401444200Z",
     "start_time": "2024-07-17T09:25:47.298446500Z"
    }
   },
   "outputs": [
    {
     "name": "stdout",
     "output_type": "stream",
     "text": [
      "2024년07월17일(수) 18시25분47초\r\n",
      "멍멍123123123123\r\n"
     ]
    }
   ],
   "execution_count": 4
  }
 ],
 "metadata": {
  "kernelspec": {
   "display_name": "Kotlin",
   "language": "kotlin",
   "name": "kotlin"
  },
  "language_info": {
   "name": "kotlin",
   "version": "1.8.20",
   "mimetype": "text/x-kotlin",
   "file_extension": ".kt",
   "pygments_lexer": "kotlin",
   "codemirror_mode": "text/x-kotlin",
   "nbconvert_exporter": ""
  },
  "ktnbPluginMetadata": {
   "projectDependencies": [
    "kx_kotlin_support.heavy_test.main"
   ]
  }
 },
 "nbformat": 4,
 "nbformat_minor": 0
}
