{
 "cells": [
  {
   "cell_type": "code",
   "source": [
    "import net.kotlinx.string.decodeUrl\n",
    "\n",
    "//val aa = arrayOf(\"a\", \"B\")\n",
    "//\n",
    "//val bb = \"batchTaskExecutor-job.kwdDemoMapJob.4961000122\".substringAfter(\"-\").split(\".\")\n",
    "//println(bb)\n",
    "\n",
    "val text = \"\"\"\n",
    "fields=[%22impCnt%22,%22clkCnt%22,%22salesAmt%22,%22ctr%22,%22cpc%22,%22avgRnk%22,%22ccnt%22,%22recentAvgRnk%22,%22recentAvgCpc%22,%22pcNxAvgRnk%22,%22mblNxAvgRnk%22,%22crto%22,%22convAmt%22,%22ror%22,%22cpConv%22,%22viewCnt%22]&timeIncrement=allDays&datePreset=last7days&breakdown=eventCode&ids=nad-a001-04-000000341970693,nad-a001-04-000000341970650,nad-a001-04-000000346171685\n",
    "\"\"\"\n",
    "println(text.decodeUrl())\n",
    "\n",
    "\n",
    "\n",
    "//println(String(java.util.Base64.getDecoder().decode(this)))\n"
   ],
   "metadata": {
    "collapsed": false,
    "ExecuteTime": {
     "end_time": "2025-02-20T04:43:27.125925900Z",
     "start_time": "2025-02-20T04:43:27.064923800Z"
    }
   },
   "outputs": [
    {
     "name": "stdout",
     "output_type": "stream",
     "text": [
      "\n",
      "fields=[\"impCnt\",\"clkCnt\",\"salesAmt\",\"ctr\",\"cpc\",\"avgRnk\",\"ccnt\",\"recentAvgRnk\",\"recentAvgCpc\",\"pcNxAvgRnk\",\"mblNxAvgRnk\",\"crto\",\"convAmt\",\"ror\",\"cpConv\",\"viewCnt\"]&timeIncrement=allDays&datePreset=last7days&breakdown=eventCode&ids=nad-a001-04-000000341970693,nad-a001-04-000000341970650,nad-a001-04-000000346171685\n",
      "\r\n"
     ]
    }
   ],
   "execution_count": 3
  }
 ],
 "metadata": {
  "kernelspec": {
   "display_name": "Kotlin",
   "language": "kotlin",
   "name": "kotlin"
  },
  "language_info": {
   "name": "kotlin",
   "version": "1.8.20",
   "mimetype": "text/x-kotlin",
   "file_extension": ".kt",
   "pygments_lexer": "kotlin",
   "codemirror_mode": "text/x-kotlin",
   "nbconvert_exporter": ""
  },
  "ktnbPluginMetadata": {
   "projectLibraries": false,
   "projectDependencies": [
    "kx_kotlin_support.work.test"
   ]
  }
 },
 "nbformat": 4,
 "nbformat_minor": 0
}
