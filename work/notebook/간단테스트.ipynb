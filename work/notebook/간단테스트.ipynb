{
 "cells": [
  {
   "cell_type": "code",
   "source": [
    "import net.kotlinx.json.gson.GsonData\n",
    "\n",
    "val aa = arrayOf(\"a\", \"B\")\n",
    "\n",
    "val bb = \"batchTaskExecutor-job.kwdDemoMapJob.4961000122\".substringAfter(\"-\").split(\".\")\n",
    "println(bb)\n"
   ],
   "metadata": {
    "collapsed": false,
    "ExecuteTime": {
     "end_time": "2024-11-30T00:57:01.545320Z",
     "start_time": "2024-11-30T00:57:01.495319100Z"
    }
   },
   "outputs": [
    {
     "name": "stdout",
     "output_type": "stream",
     "text": [
      "[job, kwdDemoMapJob, 4961000122]\r\n"
     ]
    }
   ],
   "execution_count": 2
  }
 ],
 "metadata": {
  "kernelspec": {
   "display_name": "Kotlin",
   "language": "kotlin",
   "name": "kotlin"
  },
  "language_info": {
   "name": "kotlin",
   "version": "1.8.20",
   "mimetype": "text/x-kotlin",
   "file_extension": ".kt",
   "pygments_lexer": "kotlin",
   "codemirror_mode": "text/x-kotlin",
   "nbconvert_exporter": ""
  },
  "ktnbPluginMetadata": {
   "projectLibraries": false,
   "projectDependencies": [
    "kx_kotlin_support.work.test"
   ]
  }
 },
 "nbformat": 4,
 "nbformat_minor": 0
}
