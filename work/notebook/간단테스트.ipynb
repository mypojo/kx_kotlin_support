{
 "cells": [
  {
   "cell_type": "code",
   "source": [
    "val aa = arrayOf(\"a\", \"B\")\n",
    "\n",
    "val bb = \"batchTaskExecutor-job.kwdDemoMapJob.49610001\".substringAfter(\"-\").split(\".\")\n",
    "println(bb)\n",
    "\n"
   ],
   "metadata": {
    "collapsed": false,
    "ExecuteTime": {
     "end_time": "2024-10-31T05:00:28.462423400Z",
     "start_time": "2024-10-31T05:00:28.366423900Z"
    }
   },
   "outputs": [
    {
     "name": "stdout",
     "output_type": "stream",
     "text": [
      "[job, kwdDemoMapJob, 49610001]\r\n"
     ]
    }
   ],
   "execution_count": 2
  }
 ],
 "metadata": {
  "kernelspec": {
   "display_name": "Kotlin",
   "language": "kotlin",
   "name": "kotlin"
  },
  "language_info": {
   "name": "kotlin",
   "version": "1.8.20",
   "mimetype": "text/x-kotlin",
   "file_extension": ".kt",
   "pygments_lexer": "kotlin",
   "codemirror_mode": "text/x-kotlin",
   "nbconvert_exporter": ""
  },
  "ktnbPluginMetadata": {
   "projectDependencies": [
    "kx_kotlin_support.heavy_test.main"
   ]
  }
 },
 "nbformat": 4,
 "nbformat_minor": 0
}
