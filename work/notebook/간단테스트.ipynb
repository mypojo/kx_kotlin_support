{
 "cells": [
  {
   "cell_type": "code",
   "source": [
    "val aa = arrayOf(\"a\", \"B\")\n",
    "\n",
    "val result = aa + arrayOf(\"bb\", \"cc\")\n",
    "println(result.joinToString(\",\"))\n",
    "println(result.dropLast(2).joinToString(\",\"))\n",
    "\n",
    "\n",
    "val cnt = 4\n",
    "\n",
    "println(Array(4) { \"a\" }.joinToString(\",\"))\n",
    "\n",
    "println(List(0) { \"b\" })\n",
    "\n"
   ],
   "metadata": {
    "collapsed": false,
    "ExecuteTime": {
     "end_time": "2024-09-27T04:01:45.546414900Z",
     "start_time": "2024-09-27T04:01:44.788536600Z"
    }
   },
   "outputs": [
    {
     "name": "stdout",
     "output_type": "stream",
     "text": [
      "a,B,bb,cc\r\n",
      "a,B\r\n",
      "a,a,a,a\r\n",
      "[]\r\n"
     ]
    }
   ],
   "execution_count": 1
  }
 ],
 "metadata": {
  "kernelspec": {
   "display_name": "Kotlin",
   "language": "kotlin",
   "name": "kotlin"
  },
  "language_info": {
   "name": "kotlin",
   "version": "1.8.20",
   "mimetype": "text/x-kotlin",
   "file_extension": ".kt",
   "pygments_lexer": "kotlin",
   "codemirror_mode": "text/x-kotlin",
   "nbconvert_exporter": ""
  },
  "ktnbPluginMetadata": {
   "projectDependencies": [
    "kx_kotlin_support.heavy_test.main"
   ]
  }
 },
 "nbformat": 4,
 "nbformat_minor": 0
}
