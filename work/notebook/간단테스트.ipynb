{
 "cells": [
  {
   "cell_type": "code",
   "source": [
    "import net.kotlinx.json.gson.GsonData\n",
    "import net.kotlinx.json.gson.toGsonData\n",
    "import net.kotlinx.string.decodeUrl\n",
    "\n",
    "val aa = arrayOf(\"a\", \"B\")\n",
    "\n",
    "val bb = \"batchTaskExecutor-job.kwdDemoMapJob.4961000122\".substringAfter(\"-\").split(\".\")\n",
    "println(bb)\n",
    "\n",
    "val text =\"detail\\u003d%7Bpk%3AdemoJob%2Csk%3A975050157771%239ee8b6be-a2ea-4cb5-bb0c-a7f79abdeb1a%2CmemberId%3A1234%2Cttl%3A0%2CjobEnv%3AlambdaJob%2CjobOption%3A%7BinputFilePath%3As3%3A%2F%2Fbucket%2Finput.txt%2CoutputFilePath%3As3%3A%2F%2Fbucket%2Foutput.txt%7D%2Cpersist%3Atrue%7D\"\n",
    "\n",
    "//println(text)\n",
    "val gson = text.decodeUrl().substringAfter(\"=\").toGsonData()\n",
    "println(gson)\n"
   ],
   "metadata": {
    "collapsed": false,
    "ExecuteTime": {
     "end_time": "2024-12-26T05:55:29.453738300Z",
     "start_time": "2024-12-26T05:55:29.353222700Z"
    }
   },
   "outputs": [
    {
     "name": "stdout",
     "output_type": "stream",
     "text": [
      "[job, kwdDemoMapJob, 4961000122]\r\n",
      "\"{pk:demoJob,sk:975050157771#9ee8b6be-a2ea-4cb5-bb0c-a7f79abdeb1a,memberId:1234,ttl:0,jobEnv:lambdaJob,jobOption:{inputFilePath:s3://bucket/input.txt,outputFilePath:s3://bucket/output.txt},persist:true}\"\r\n"
     ]
    }
   ],
   "execution_count": 5
  }
 ],
 "metadata": {
  "kernelspec": {
   "display_name": "Kotlin",
   "language": "kotlin",
   "name": "kotlin"
  },
  "language_info": {
   "name": "kotlin",
   "version": "1.8.20",
   "mimetype": "text/x-kotlin",
   "file_extension": ".kt",
   "pygments_lexer": "kotlin",
   "codemirror_mode": "text/x-kotlin",
   "nbconvert_exporter": ""
  },
  "ktnbPluginMetadata": {
   "projectLibraries": false,
   "projectDependencies": [
    "kx_kotlin_support.work.test"
   ]
  }
 },
 "nbformat": 4,
 "nbformat_minor": 0
}
