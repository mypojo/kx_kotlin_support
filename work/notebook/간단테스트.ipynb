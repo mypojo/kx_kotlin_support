{
 "cells": [
  {
   "cell_type": "code",
   "source": [
    "import aws.smithy.kotlin.runtime.text.encoding.decodeBase64\n",
    "import kotlinx.io.bytestring.decodeToByteString\n",
    "import net.kotlinx.string.decodeUrl\n",
    "import kotlin.io.encoding.Base64\n",
    "\n",
    "//val aa = arrayOf(\"a\", \"B\")\n",
    "//\n",
    "//val bb = \"batchTaskExecutor-job.kwdDemoMapJob.4961000122\".substringAfter(\"-\").split(\".\")\n",
    "//println(bb)\n",
    "\n",
    "val text = \"\"\"\n",
    "eyJiYXNpY19kYXRlIjoiMjAyNTAyMjgiLCJuYW1lIjoiZGVtby10ZXN0IiwiZXZlbnRfaWQiOiIxIiwibWV0YWRhdGEiOiJmcm9tLWh0dHBfbG9nMiIsInJlcV90aW1lIjoiMjAyNS0wMi0yOFQwNDowNDozOVoiLCJyZXFfdXJpIjoidGVzdCIsInJlcV9tZXRob2QiOiJ0ZXN0IiwicmVxX2hlYWRlciI6InRlc3QiLCJyZXFfYm9keSI6ImJvZHkiLCJyZXNwX2NvZGUiOjIwMCwicmVzcF9ib2R5IjoidGVzdCIsInJvdXRlciI6eyJkYiI6ImQxIiwidGFibGUiOiJodHRwX2xvZzIiLCJvcCI6Imluc2VydCJ9fQ==\"\"\"\n",
    "println(text.toByteArray().decodeBase64())\n",
    "\n",
    "\n",
    "\n",
    "\n",
    "//println(String(java.util.Base64.getDecoder().decode(this)))\n"
   ],
   "metadata": {
    "collapsed": false,
    "ExecuteTime": {
     "end_time": "2025-02-28T04:08:40.586327500Z",
     "start_time": "2025-02-28T04:08:40.406274800Z"
    }
   },
   "outputs": [
    {
     "name": "stdout",
     "output_type": "stream",
     "text": [
      "\n",
      "eyJiYXNpY19kYXRlIjoiMjAyNTAyMjgiLCJuYW1lIjoiZGVtby10ZXN0IiwiZXZlbnRfaWQiOiIxIiwibWV0YWRhdGEiOiJmcm9tLWh0dHBfbG9nMiIsInJlcV90aW1lIjoiMjAyNS0wMi0yOFQwNDowNDozOVoiLCJyZXFfdXJpIjoidGVzdCIsInJlcV9tZXRob2QiOiJ0ZXN0IiwicmVxX2hlYWRlciI6InRlc3QiLCJyZXFfYm9keSI6ImJvZHkiLCJyZXNwX2NvZGUiOjIwMCwicmVzcF9ib2R5IjoidGVzdCIsInJvdXRlciI6eyJkYiI6ImQxIiwidGFibGUiOiJodHRwX2xvZzIiLCJvcCI6Imluc2VydCJ9fQ==\r\n"
     ]
    }
   ],
   "execution_count": 1
  }
 ],
 "metadata": {
  "kernelspec": {
   "display_name": "Kotlin",
   "language": "kotlin",
   "name": "kotlin"
  },
  "language_info": {
   "name": "kotlin",
   "version": "1.8.20",
   "mimetype": "text/x-kotlin",
   "file_extension": ".kt",
   "pygments_lexer": "kotlin",
   "codemirror_mode": "text/x-kotlin",
   "nbconvert_exporter": ""
  },
  "ktnbPluginMetadata": {
   "projectLibraries": false,
   "projectDependencies": [
    "kx_kotlin_support.work.test"
   ]
  }
 },
 "nbformat": 4,
 "nbformat_minor": 0
}
