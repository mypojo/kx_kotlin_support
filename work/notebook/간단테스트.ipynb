{
 "cells": [
  {
   "cell_type": "code",
   "source": [
    "//val aa = arrayOf(\"a\", \"B\")\n",
    "//\n",
    "//val bb = \"batchTaskExecutor-job.kwdDemoMapJob.4961000122\".substringAfter(\"-\").split(\".\")\n",
    "//println(bb)\n",
    "\n",
    "val text = \"디플롯 앱 설치 시 15%쿠폰 + 첫구매 10% 추가 할인!\"\n",
    "//val descV2 = text.replace(\"\"\"[.+]\"\"\", \"--\")\n",
    "\n",
    "val descV2 = \"\"\"\\[\\d+\\]\"\"\".toRegex().replace(text,\"\")\n",
    "println(descV2)\n",
    "\n",
    "\n",
    "//println(String(java.util.Base64.getDecoder().decode(this)))\n"
   ],
   "metadata": {
    "collapsed": false,
    "ExecuteTime": {
     "end_time": "2025-02-11T04:34:03.690404Z",
     "start_time": "2025-02-11T04:34:03.636888400Z"
    }
   },
   "outputs": [
    {
     "name": "stdout",
     "output_type": "stream",
     "text": [
      "디플롯 앱 설치 시 15%쿠폰 + 첫구매 10% 추가 할인!\r\n"
     ]
    }
   ],
   "execution_count": 22
  }
 ],
 "metadata": {
  "kernelspec": {
   "display_name": "Kotlin",
   "language": "kotlin",
   "name": "kotlin"
  },
  "language_info": {
   "name": "kotlin",
   "version": "1.8.20",
   "mimetype": "text/x-kotlin",
   "file_extension": ".kt",
   "pygments_lexer": "kotlin",
   "codemirror_mode": "text/x-kotlin",
   "nbconvert_exporter": ""
  },
  "ktnbPluginMetadata": {
   "projectLibraries": false,
   "projectDependencies": [
    "kx_kotlin_support.work.test"
   ]
  }
 },
 "nbformat": 4,
 "nbformat_minor": 0
}
