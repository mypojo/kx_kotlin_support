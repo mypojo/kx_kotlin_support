{
 "cells": [
  {
   "cell_type": "code",
   "source": [
    "//val aa = arrayOf(\"a\", \"B\")\n",
    "//\n",
    "//val bb = \"batchTaskExecutor-job.kwdDemoMapJob.4961000122\".substringAfter(\"-\").split(\".\")\n",
    "//println(bb)\n",
    "\n",
    "val text = \"jobStatus\\u003dFAILED\\u0026sk\\u003d992365606987#nabus1#1107850001\\u0026pk\\u003dkwdExtractJob\"\n",
    "println(text)\n",
    "println(text.split(\"&\").map { it.split(\"=\").toPair() })\n",
    "\n",
    "\n",
    "//println(String(java.util.Base64.getDecoder().decode(this)))\n"
   ],
   "metadata": {
    "collapsed": false,
    "ExecuteTime": {
     "end_time": "2025-01-09T04:20:42.980269100Z",
     "start_time": "2025-01-09T04:20:42.868751800Z"
    }
   },
   "outputs": [
    {
     "name": "stdout",
     "output_type": "stream",
     "text": [
      "jobStatus=FAILED&sk=992365606987#nabus1#1107850001&pk=kwdExtractJob\r\n",
      "[(jobStatus, FAILED), (sk, 992365606987#nabus1#1107850001), (pk, kwdExtractJob)]\r\n"
     ]
    }
   ],
   "execution_count": 5
  }
 ],
 "metadata": {
  "kernelspec": {
   "display_name": "Kotlin",
   "language": "kotlin",
   "name": "kotlin"
  },
  "language_info": {
   "name": "kotlin",
   "version": "1.8.20",
   "mimetype": "text/x-kotlin",
   "file_extension": ".kt",
   "pygments_lexer": "kotlin",
   "codemirror_mode": "text/x-kotlin",
   "nbconvert_exporter": ""
  },
  "ktnbPluginMetadata": {
   "projectLibraries": false,
   "projectDependencies": [
    "kx_kotlin_support.work.test"
   ]
  }
 },
 "nbformat": 4,
 "nbformat_minor": 0
}
