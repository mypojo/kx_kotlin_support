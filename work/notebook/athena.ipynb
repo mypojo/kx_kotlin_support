{
 "cells": [
  {
   "metadata": {},
   "cell_type": "markdown",
   "source": [
    "## 프로젝트 히스토리 조회\n",
    "1. basic_date : 조회 시작날짜\n",
    "2. projectId : 프로젝트 ID"
   ]
  },
  {
   "metadata": {},
   "cell_type": "code",
   "outputs": [],
   "execution_count": null,
   "source": [
    "import net.kotlinx.aws.athena.AthenaModule\n",
    "import net.kotlinx.core.lib.SystemUtil\n",
    "import net.kotlinx.dataframe.toAnyFrame\n",
    "import net.kotlinx.test.MyEnv\n",
    "import net.kotlinx.test.MyLightKoinStarter\n",
    "import org.koin.mp.KoinPlatform\n",
    "\n",
    "MyLightKoinStarter.startup(\"xx\") {\n",
    "    single { AthenaModule(workGroup = \"workgroup-xx\", database = \"xx\") }\n",
    "}\n",
    "\n",
    "val athena = KoinPlatform.getKoin().get<AthenaModule>()\n",
    "val datas = athena.readAll {\n",
    "    \"\"\"\n",
    "SELECT ..\n",
    "order by req_time desc\n",
    "\"\"\"\n",
    "}.toAnyFrame()\n",
    "//datas"
   ]
  },
  {
   "metadata": {},
   "cell_type": "code",
   "outputs": [],
   "execution_count": null,
   "source": "datas[1][4]"
  },
  {
   "metadata": {},
   "cell_type": "code",
   "outputs": [],
   "execution_count": null,
   "source": [
    "import net.kotlinx.core.gson.GsonSet\n",
    "import net.kotlinx.core.gson.toGsonData\n",
    "\n",
    "val gson = datas[1][4].toString().toGsonData()\n",
    "GsonSet.GSON_PRETTY.toJson(gson.delegate)"
   ]
  },
  {
   "metadata": {},
   "cell_type": "code",
   "outputs": [],
   "execution_count": null,
   "source": [
    "\n",
    "val aa = \"123\"\n",
    "val text = \"\"\"\n",
    "    hello ${aa}\n",
    "\"\"\"\n",
    "println(text)\n",
    "\n",
    "val athena = KoinPlatform.getKoin().get<AthenaModule>()\n",
    "val datas = athena.readAll {\n",
    "    \"\"\"\n",
    "SELECT ..\n",
    "order by req_time desc\n",
    "\"\"\"\n",
    "}.toAnyFrame()\n",
    "//datas"
   ]
  },
  {
   "metadata": {},
   "cell_type": "code",
   "outputs": [],
   "execution_count": null,
   "source": "datas[1][4]"
  },
  {
   "metadata": {},
   "cell_type": "code",
   "outputs": [],
   "execution_count": null,
   "source": [
    "import net.kotlinx.core.gson.GsonSet\n",
    "import net.kotlinx.core.gson.toGsonData\n",
    "\n",
    "val gson = datas[1][4].toString().toGsonData()\n",
    "GsonSet.GSON_PRETTY.toJson(gson.delegate)"
   ]
  }
 ],
 "metadata": {
  "kernelspec": {
   "display_name": "Kotlin",
   "language": "kotlin",
   "name": "kotlin"
  },
  "language_info": {
   "name": "kotlin",
   "version": "1.8.20",
   "mimetype": "text/x-kotlin",
   "file_extension": ".kt",
   "pygments_lexer": "kotlin",
   "codemirror_mode": "text/x-kotlin",
   "nbconvert_exporter": ""
  }
 },
 "nbformat": 4,
 "nbformat_minor": 0
}
