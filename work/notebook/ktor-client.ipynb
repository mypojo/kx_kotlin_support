{
 "cells": [
  {
   "cell_type": "markdown",
   "source": [
    "## ktor-client 간단사용\n",
    "크롤링 등을 빠르게 작업할 수 있음"
   ],
   "metadata": {
    "collapsed": false
   }
  },
  {
   "metadata": {},
   "cell_type": "markdown",
   "source": ""
  },
  {
   "metadata": {},
   "cell_type": "code",
   "source": [
    "//예약된 키워드로 사전 정의된 패키기 로드\n",
    "%use ktor-client"
   ],
   "outputs": [],
   "execution_count": null
  },
  {
   "metadata": {},
   "cell_type": "code",
   "source": [
    "val resp = http.get(\"https://www.naver.com\")\n",
    "val text = resp.bodyAsText()"
   ],
   "outputs": [],
   "execution_count": null
  },
  {
   "metadata": {},
   "cell_type": "code",
   "source": "println(text)",
   "outputs": [],
   "execution_count": null
  },
  {
   "metadata": {},
   "cell_type": "code",
   "source": [
    "import net.kotlinx.regex.extract\n",
    "import net.kotlinx.regex.extractAll\n",
    "\n",
    "text.extractAll(\"content=\\\"\" to \"\\\"\").forEach { \n",
    "    println(it)\n",
    "}"
   ],
   "outputs": [],
   "execution_count": null
  }
 ],
 "metadata": {
  "kernelspec": {
   "display_name": "Kotlin",
   "language": "kotlin",
   "name": "kotlin"
  },
  "language_info": {
   "name": "kotlin",
   "version": "1.8.20",
   "mimetype": "text/x-kotlin",
   "file_extension": ".kt",
   "pygments_lexer": "kotlin",
   "codemirror_mode": "text/x-kotlin",
   "nbconvert_exporter": ""
  },
  "ktnbPluginMetadata": {
   "projectDependencies": true
  }
 },
 "nbformat": 4,
 "nbformat_minor": 0
}
