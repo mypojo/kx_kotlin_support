{
 "cells": [
  {
   "cell_type": "markdown",
   "source": [
    "## 세 수의 합\n",
    "https://leetcode.com/problems/3sum/description/"
   ],
   "metadata": {
    "collapsed": false
   }
  },
  {
   "metadata": {},
   "cell_type": "markdown",
   "source": ""
  },
  {
   "metadata": {
    "ExecuteTime": {
     "end_time": "2024-06-30T01:29:36.884007600Z",
     "start_time": "2024-06-30T01:29:36.781098700Z"
    }
   },
   "cell_type": "code",
   "source": [
    "//결과\n",
    "val nums = arrayOf(-1, 0, 1, 2, -1, -4).toIntArray()\n",
    "\n",
    "fun threeSum(nums: IntArray): List<List<Int>> {\n",
    "\n",
    "    val inputs = nums.toList().sorted()\n",
    "    println(\"입력 -> ${inputs}\")\n",
    "\n",
    "    //2칸 이전 까지만 메인 커서가 가능함\n",
    "    val total = (0 until inputs.size - 2).flatMap { i ->\n",
    "\n",
    "        //메인 커서당 로직 실행\n",
    "        val results = mutableListOf<List<Int>>()\n",
    "        var (left, right) = i + 1 to inputs.size - 1 //메인커서 초기화\n",
    "\n",
    "        while (left < right) {\n",
    "            val sum = inputs[i] + inputs[left] + inputs[right]\n",
    "            println(\"[${i}/${left}/${right}] -> ${inputs[i]} + ${inputs[left]} + ${inputs[right]} = ${sum}\")\n",
    "            if (sum == 0) {\n",
    "                results += listOf(inputs[i], inputs[left], inputs[right])\n",
    "                //원하는 답이면 양쪽 서브커서 둘다 이동\n",
    "                left++\n",
    "                right--\n",
    "            } else {\n",
    "                //합계 크기에 따라 서브 커서 조정\n",
    "                if (sum < 0) left++ else right--\n",
    "            }\n",
    "        }\n",
    "        results\n",
    "    }\n",
    "    return total.distinct()\n",
    "}\n",
    "\n",
    "\n",
    "\n",
    "println(\"결과 : ${threeSum(nums)}\")"
   ],
   "outputs": [
    {
     "name": "stdout",
     "output_type": "stream",
     "text": [
      "입력 -> [-4, -1, -1, 0, 1, 2]\r\n",
      "[0/1/5] -> -4 + -1 + 2 = -3\r\n",
      "[0/2/5] -> -4 + -1 + 2 = -3\r\n",
      "[0/3/5] -> -4 + 0 + 2 = -2\r\n",
      "[0/4/5] -> -4 + 1 + 2 = -1\r\n",
      "[1/2/5] -> -1 + -1 + 2 = 0\r\n",
      "[1/3/4] -> -1 + 0 + 1 = 0\r\n",
      "[2/3/5] -> -1 + 0 + 2 = 1\r\n",
      "[2/3/4] -> -1 + 0 + 1 = 0\r\n",
      "[3/4/5] -> 0 + 1 + 2 = 3\r\n",
      "결과 : [[-1, -1, 2], [-1, 0, 1]]\r\n"
     ]
    }
   ],
   "execution_count": 19
  },
  {
   "metadata": {},
   "cell_type": "code",
   "source": [
    "\n",
    "\n"
   ],
   "outputs": [],
   "execution_count": null
  }
 ],
 "metadata": {
  "kernelspec": {
   "display_name": "Kotlin",
   "language": "kotlin",
   "name": "kotlin"
  },
  "language_info": {
   "name": "kotlin",
   "version": "1.8.20",
   "mimetype": "text/x-kotlin",
   "file_extension": ".kt",
   "pygments_lexer": "kotlin",
   "codemirror_mode": "text/x-kotlin",
   "nbconvert_exporter": ""
  },
  "ktnbPluginMetadata": {
   "projectDependencies": true
  }
 },
 "nbformat": 4,
 "nbformat_minor": 0
}
