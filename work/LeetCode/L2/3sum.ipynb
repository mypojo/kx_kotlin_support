{
 "cells": [
  {
   "cell_type": "markdown",
   "source": [
    "## 세 수의 합\n",
    "1. https://leetcode.com/problems/3sum/description/\n",
    "2. 세 수의 합이이 0이 되는결과 리턴"
   ],
   "metadata": {
    "collapsed": false
   }
  },
  {
   "metadata": {},
   "cell_type": "markdown",
   "source": ""
  },
  {
   "metadata": {
    "ExecuteTime": {
     "end_time": "2024-06-30T13:27:55.416975200Z",
     "start_time": "2024-06-30T13:27:55.087329700Z"
    }
   },
   "cell_type": "code",
   "source": [
    "//결과\n",
    "val nums = arrayOf(-1, 0, 1, 2, -1, -4).toIntArray()\n",
    "\n",
    "data class Window(\n",
    "    val inputs: List<Int>,\n",
    "    val i: Int,\n",
    "    var left: Int,\n",
    "    var right: Int,\n",
    ") {\n",
    "    /** 계산 가능한지 */\n",
    "    fun enable(): Boolean = left < right\n",
    "\n",
    "    /** 세 수의 합 */\n",
    "    fun sumOf3() = listOf(inputs[i], inputs[left], inputs[right])\n",
    "    \n",
    "    fun forward() = left++\n",
    "    fun backward() = right--\n",
    "}\n",
    "\n",
    "fun threeSum(nums: IntArray): List<List<Int>> {\n",
    "\n",
    "    val inputs = nums.toList().sorted()\n",
    "    println(\"입력 -> ${inputs}\")\n",
    "\n",
    "    //2칸 이전 까지만 메인 커서가 가능함\n",
    "    val total = (0 until inputs.size - 2).flatMap { i ->\n",
    "\n",
    "        //메인 커서당 로직 실행\n",
    "        val results = mutableListOf<List<Int>>()\n",
    "\n",
    "        //메인커서 초기화\n",
    "        val win = Window(inputs, i, i + 1, inputs.size - 1)\n",
    "\n",
    "        while (win.enable()) {\n",
    "            val sumList = win.sumOf3()\n",
    "            val sum = sumList.sum()\n",
    "            //println(\"[${i}/${left}/${right}] -> ${inputs[i]} + ${inputs[left]} + ${inputs[right]} = ${sum}\")\n",
    "            if (sum == 0) {\n",
    "                results += sumList\n",
    "                //원하는 답이면 양쪽 서브커서 둘다 이동\n",
    "                win.forward()\n",
    "                win.backward()\n",
    "                \n",
    "            } else {\n",
    "                //합계 크기에 따라 서브 커서 조정\n",
    "                if (sum < 0) win.forward() else win.backward()\n",
    "            }\n",
    "        }\n",
    "        results\n",
    "    }\n",
    "    return total.distinct()\n",
    "}\n",
    "\n",
    "\n",
    "val results = threeSum(nums)\n",
    "println(\"결과 : $results\")\n",
    "check(results.toString() == \"[[-1, -1, 2], [-1, 0, 1]]\")\n"
   ],
   "outputs": [
    {
     "name": "stdout",
     "output_type": "stream",
     "text": [
      "입력 -> [-4, -1, -1, 0, 1, 2]\r\n",
      "결과 : [[-1, -1, 2], [-1, 0, 1]]\r\n"
     ]
    }
   ],
   "execution_count": 5
  },
  {
   "metadata": {},
   "cell_type": "code",
   "source": [
    "\n",
    "\n"
   ],
   "outputs": [],
   "execution_count": null
  }
 ],
 "metadata": {
  "kernelspec": {
   "display_name": "Kotlin",
   "language": "kotlin",
   "name": "kotlin"
  },
  "language_info": {
   "name": "kotlin",
   "version": "1.8.20",
   "mimetype": "text/x-kotlin",
   "file_extension": ".kt",
   "pygments_lexer": "kotlin",
   "codemirror_mode": "text/x-kotlin",
   "nbconvert_exporter": ""
  },
  "ktnbPluginMetadata": {
   "projectDependencies": true
  }
 },
 "nbformat": 4,
 "nbformat_minor": 0
}
