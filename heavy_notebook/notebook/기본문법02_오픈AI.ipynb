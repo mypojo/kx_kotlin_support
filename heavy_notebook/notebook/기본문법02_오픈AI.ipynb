{
 "cells": [
  {
   "cell_type": "code",
   "execution_count": 2,
   "outputs": [],
   "source": [
    "%use openai"
   ],
   "metadata": {
    "collapsed": false,
    "ExecuteTime": {
     "end_time": "2023-10-30T23:06:39.713265600Z",
     "start_time": "2023-10-30T23:06:39.363265900Z"
    }
   }
  },
  {
   "cell_type": "code",
   "execution_count": null,
   "outputs": [],
   "source": [],
   "metadata": {
    "collapsed": false
   }
  }
 ],
 "metadata": {
  "kernelspec": {
   "display_name": "Kotlin",
   "language": "kotlin",
   "name": "kotlin"
  },
  "language_info": {
   "name": "kotlin",
   "version": "1.8.20",
   "mimetype": "text/x-kotlin",
   "file_extension": ".kt",
   "pygments_lexer": "kotlin",
   "codemirror_mode": "text/x-kotlin",
   "nbconvert_exporter": ""
  },
  "ktnbPluginMetadata": {
   "projectDependencies": [
    "kx_kotlin_support.core.main",
    "kx_kotlin_support.core.test",
    "kx_kotlin_support.heavy_notebook.main"
   ]
  }
 },
 "nbformat": 4,
 "nbformat_minor": 0
}
