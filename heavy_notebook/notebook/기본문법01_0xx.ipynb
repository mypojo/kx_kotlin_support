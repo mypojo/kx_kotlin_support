{
 "cells": [
  {
   "cell_type": "code",
   "execution_count": 34,
   "outputs": [
    {
     "data": {
      "text/plain": "Plain text 1"
     },
     "metadata": {},
     "output_type": "display_data"
    },
    {
     "data": {
      "text/plain": "15.1"
     },
     "execution_count": 34,
     "metadata": {},
     "output_type": "execute_result"
    }
   ],
   "source": [
    "//%use krangl\n",
    "//Shift + Enter 단축키\n",
    "DISPLAY(\"Plain text 1\")\n",
    "HTML(\"<b>HTML</b> text\")\n",
    "8.5+6.6"
   ],
   "metadata": {
    "collapsed": false,
    "ExecuteTime": {
     "end_time": "2023-10-29T00:36:11.106596600Z",
     "start_time": "2023-10-29T00:36:11.077597100Z"
    }
   }
  },
  {
   "cell_type": "code",
   "execution_count": 4,
   "outputs": [
    {
     "data": {
      "text/html": "\n    <p>Counter: <span id=\"ctr\">0</span> <button onclick=\"inc()\">Increment</button></p>\n    <script>\n      function inc() {\n        let counter = document.getElementById(\"ctr\")\n        counter.innerHTML = parseInt(counter.innerHTML) + 1;\n      }\n    </script>\n"
     },
     "execution_count": 4,
     "metadata": {},
     "output_type": "execute_result"
    }
   ],
   "source": [
    "HTML(\"\"\"\n",
    "    <p>Counter: <span id=\"ctr\">0</span> <button onclick=\"inc()\">Increment</button></p>\n",
    "    <script>\n",
    "      function inc() {\n",
    "        let counter = document.getElementById(\"ctr\")\n",
    "        counter.innerHTML = parseInt(counter.innerHTML) + 1;\n",
    "      }\n",
    "    </script>\n",
    "\"\"\")"
   ],
   "metadata": {
    "collapsed": false,
    "ExecuteTime": {
     "end_time": "2023-10-29T00:39:01.901034900Z",
     "start_time": "2023-10-29T00:39:01.870034600Z"
    }
   }
  },
  {
   "cell_type": "code",
   "execution_count": null,
   "outputs": [],
   "source": [
    "\n",
    "\n",
    "val ramenRatings = DataFrame.readCSV(\"https://koenig-media.raywenderlich.com/uploads/2021/07/ramen-ratings.csv\")\n",
    "println(ramenRatings)"
   ],
   "metadata": {
    "collapsed": false
   }
  },
  {
   "cell_type": "code",
   "execution_count": null,
   "outputs": [],
   "source": [
    "println(sleepData)"
   ],
   "metadata": {
    "collapsed": false
   }
  },
  {
   "cell_type": "code",
   "execution_count": null,
   "outputs": [],
   "source": [
    "\n"
   ],
   "metadata": {
    "collapsed": false
   }
  },
  {
   "cell_type": "code",
   "execution_count": null,
   "outputs": [],
   "source": [
    "//## 이렇게 가져오는거 가능\n",
    "USE {\n",
    "    repositories {\n",
    "//        maven {\n",
    "//            url = \"https://my.secret.repo/maven/\"\n",
    "//            credentials {\n",
    "//                username = USER\n",
    "//                password = TOKEN\n",
    "//            }\n",
    "//        }\n",
    "        dependencies {\n",
    "            val ktorVersion = \"2.0.3\"            \n",
    "            implementation(\"io.ktor:ktor-client-core-jvm:$ktorVersion\")\n",
    "            implementation(\"io.ktor:ktor-client-apache-jvm:$ktorVersion\")\n",
    "        }\n",
    "    }\n",
    "}"
   ],
   "metadata": {
    "collapsed": false
   }
  }
 ],
 "metadata": {
  "kernelspec": {
   "display_name": "Kotlin",
   "language": "kotlin",
   "name": "kotlin"
  },
  "language_info": {
   "name": "kotlin",
   "version": "1.8.20",
   "mimetype": "text/x-kotlin",
   "file_extension": ".kt",
   "pygments_lexer": "kotlin",
   "codemirror_mode": "text/x-kotlin",
   "nbconvert_exporter": ""
  },
  "ktnbPluginMetadata": {
   "projectDependencies": [
    "kx_kotlin_support.core.main",
    "kx_kotlin_support.core.test"
   ]
  }
 },
 "nbformat": 4,
 "nbformat_minor": 0
}
